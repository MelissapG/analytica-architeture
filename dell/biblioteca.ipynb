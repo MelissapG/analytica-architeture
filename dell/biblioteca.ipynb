{
  "nbformat": 4,
  "nbformat_minor": 0,
  "metadata": {
    "colab": {
      "name": "oficina10.ipynb",
      "provenance": [],
      "collapsed_sections": []
    },
    "kernelspec": {
      "name": "python3",
      "display_name": "Python 3"
    },
    "language_info": {
      "name": "python"
    }
  },
  "cells": [
    {
      "cell_type": "markdown",
      "metadata": {
        "id": "CCZnMgO55QOA"
      },
      "source": [
        "# Oficina 10\n",
        "\n"
      ]
    },
    {
      "cell_type": "code",
      "metadata": {
        "id": "gRM0QZ0p6946"
      },
      "source": [
        "dic = {}"
      ],
      "execution_count": 5,
      "outputs": []
    },
    {
      "cell_type": "code",
      "metadata": {
        "id": "0vb9CqQn5T-f"
      },
      "source": [
        "def adicionaLivro(dic):\n",
        "  titulo = input(\"Título: \")\n",
        "  autor = input(\"Autor: \")\n",
        "  genero = input(\"Gênero: \")\n",
        "  subgenero = input(\"Subgênero: \")\n",
        "  editora = input(\"Editora: \")\n",
        "  numero_copias = int(input(\"Número de cópias: \"))\n",
        "  valor = float(input(\"Valor: \"))\n",
        "\n",
        "  livro = {'titulo':titulo, 'autor':autor, 'genero':genero, 'subgenero':subgenero, 'editora':editora, 'numero_copias':numero_copias, 'valor':valor}\n",
        "  dic[str(len(dic)+1)] = livro\n",
        "  return dic"
      ],
      "execution_count": null,
      "outputs": []
    },
    {
      "cell_type": "code",
      "metadata": {
        "id": "-6BjLFL5Bnhk"
      },
      "source": [
        "dic = {1:{'titulo':'muito amor','genero':'romance', 'subgenero':'amor', 'numero_copias':10}, 2:{'titulo':'massacre da serra eletrica','genero':'terror', 'subgenero':'suspense','numero_copias':15}, 3:{'titulo':'aquaman','genero':'aquático', 'subgenero':'água','numero_copias':10}, 4:{'titulo':'katia&vado','genero':'romance', 'subgenero':'love','numero_copias':20},\n",
        "       5:{'titulo':'amor nas alturas','genero':'romance', 'subgenero':'love','numero_copias':5}}"
      ],
      "execution_count": 69,
      "outputs": []
    },
    {
      "cell_type": "code",
      "metadata": {
        "id": "hAl2Ldxs99RY"
      },
      "source": [
        "def apresentaLivros(dic):\n",
        "  generos = {}\n",
        "\n",
        "  for livro in dic:\n",
        "    if (dic[livro]['genero'] not in generos):\n",
        "      generos[dic[livro]['genero']] = {dic[livro]['subgenero']:[dic[livro]]}\n",
        "    else:\n",
        "      if (dic[livro]['subgenero'] not in generos[dic[livro]['genero']]):\n",
        "        generos[dic[livro]['genero']][dic[livro]['subgenero']] = [dic[livro]]\n",
        "      else:\n",
        "        generos[dic[livro]['genero']][dic[livro]['subgenero']].append(dic[livro])\n",
        "      \n",
        "  for genero in sorted(generos):\n",
        "    print('--- {} ---\\n'.format(genero))\n",
        "    for subgenero in sorted(generos[genero]):\n",
        "      print('------ {} ------\\n'.format(subgenero))\n",
        "      for livro in generos[genero][subgenero]:\n",
        "        print(livro['titulo'],'\\n')"
      ],
      "execution_count": 77,
      "outputs": []
    },
    {
      "cell_type": "code",
      "metadata": {
        "colab": {
          "base_uri": "https://localhost:8080/"
        },
        "id": "lMYl1GY1CNNp",
        "outputId": "9f9e3e73-5e8f-4c9a-9b36-bf481d416096"
      },
      "source": [
        "apresentaLivros(dic)"
      ],
      "execution_count": 78,
      "outputs": [
        {
          "output_type": "stream",
          "name": "stdout",
          "text": [
            "--- aquático ---\n",
            "\n",
            "------ água ------\n",
            "\n",
            "aquaman \n",
            "\n",
            "--- romance ---\n",
            "\n",
            "------ amor ------\n",
            "\n",
            "muito amor \n",
            "\n",
            "------ love ------\n",
            "\n",
            "katia&vado \n",
            "\n",
            "amor nas alturas \n",
            "\n",
            "--- terror ---\n",
            "\n",
            "------ suspense ------\n",
            "\n",
            "massacre da serra eletrica \n",
            "\n"
          ]
        }
      ]
    }
  ]
}